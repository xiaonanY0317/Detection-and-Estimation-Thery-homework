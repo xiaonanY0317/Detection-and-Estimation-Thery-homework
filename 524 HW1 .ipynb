{
 "cells": [
  {
   "cell_type": "code",
   "execution_count": 2,
   "id": "0479cb9f",
   "metadata": {},
   "outputs": [],
   "source": [
    "import numpy as np\n",
    "import pandas as pd\n",
    "import matplotlib.pyplot as plt"
   ]
  },
  {
   "cell_type": "markdown",
   "id": "f7dcb42e",
   "metadata": {},
   "source": [
    "## Problem 5 (ii)"
   ]
  },
  {
   "cell_type": "code",
   "execution_count": 3,
   "id": "18c69ce6",
   "metadata": {},
   "outputs": [],
   "source": [
    "def lamdahatfunc(N,Lamda):\n",
    "    x = np.random.poisson(Lamda, N)\n",
    "    lamdahat=0\n",
    "    for i in range(N):\n",
    "        lamdainit=x[i]\n",
    "        lamdahat= lamdahat+lamdainit\n",
    "        i=i+1\n",
    "    lamdahat=(1/(N-1))*lamdahat\n",
    "    return(lamdahat)\n",
    "\n",
    "def mean_lamdahat1000(N,Lamda):\n",
    "    lamdahat=lamdahatfunc(N,Lamda)\n",
    "    list_lamdahat=[]\n",
    "    i=0\n",
    "    while(i<1000):\n",
    "        lamdahat=lamdahatfunc(N,Lamda)\n",
    "        list_lamdahat.append(lamdahat)\n",
    "        i=i+1\n",
    "    mean = np.mean(list_lamdahat)\n",
    "    return(mean)\n",
    "\n",
    "def var_lamdahat1000(N,Lamda):\n",
    "    lamdahat=lamdahatfunc(N,Lamda)\n",
    "    list_lamdahat=[]\n",
    "    i=0\n",
    "    while(i<1000):\n",
    "        lamdahat=lamdahatfunc(N,Lamda)\n",
    "        list_lamdahat.append(lamdahat)\n",
    "        i=i+1\n",
    "    var = np.std(list_lamdahat)\n",
    "    return(var)\n",
    "\n",
    "def list_lamdahat(N,Lamda):\n",
    "    lamdahat=lamdahatfunc(N,Lamda)\n",
    "    list_lamdahat=[]\n",
    "    i=0\n",
    "    while(i<1000):\n",
    "        lamdahat=lamdahatfunc(N,Lamda)\n",
    "        list_lamdahat.append(lamdahat)\n",
    "        i=i+1\n",
    "    mean = np.mean(list_lamdahat)\n",
    "    return(list_lamdahat)\n",
    "\n",
    "\n",
    "def generate_table(N,Lamda):\n",
    "    lamdahat=lamdahatfunc(N,Lamda)\n",
    "    list_lamdahat1=list_lamdahat(N,Lamda)\n",
    "    z=np.zeros(1000)\n",
    "    truelamda=z+Lamda\n",
    "    data = {'lamdahat':list_lamdahat1[:],'lamda':truelamda[:],'bias':list_lamdahat1[:]- truelamda[:]}\n",
    "    Table = pd.DataFrame(data)\n",
    "    return(Table)"
   ]
  },
  {
   "cell_type": "code",
   "execution_count": 4,
   "id": "f65e6b66",
   "metadata": {},
   "outputs": [
    {
     "data": {
      "text/plain": [
       "9.489795918367346"
      ]
     },
     "execution_count": 4,
     "metadata": {},
     "output_type": "execute_result"
    }
   ],
   "source": [
    "lamdahatfunc(50,10)#estimator of lamda when true lamda=10 and N=50"
   ]
  },
  {
   "cell_type": "code",
   "execution_count": 5,
   "id": "9cc4854c",
   "metadata": {},
   "outputs": [
    {
     "data": {
      "text/plain": [
       "10.200346938775509"
      ]
     },
     "execution_count": 5,
     "metadata": {},
     "output_type": "execute_result"
    }
   ],
   "source": [
    "mean_lamdahat1000(50,10)#mean of 1000 lamdahat when lamda=10 and N=50"
   ]
  },
  {
   "cell_type": "code",
   "execution_count": 6,
   "id": "430eabd7",
   "metadata": {},
   "outputs": [
    {
     "data": {
      "text/html": [
       "<div>\n",
       "<style scoped>\n",
       "    .dataframe tbody tr th:only-of-type {\n",
       "        vertical-align: middle;\n",
       "    }\n",
       "\n",
       "    .dataframe tbody tr th {\n",
       "        vertical-align: top;\n",
       "    }\n",
       "\n",
       "    .dataframe thead th {\n",
       "        text-align: right;\n",
       "    }\n",
       "</style>\n",
       "<table border=\"1\" class=\"dataframe\">\n",
       "  <thead>\n",
       "    <tr style=\"text-align: right;\">\n",
       "      <th></th>\n",
       "      <th>lamdahat</th>\n",
       "      <th>lamda</th>\n",
       "      <th>bias</th>\n",
       "    </tr>\n",
       "  </thead>\n",
       "  <tbody>\n",
       "    <tr>\n",
       "      <th>0</th>\n",
       "      <td>9.632653</td>\n",
       "      <td>10.0</td>\n",
       "      <td>-0.367347</td>\n",
       "    </tr>\n",
       "    <tr>\n",
       "      <th>1</th>\n",
       "      <td>9.469388</td>\n",
       "      <td>10.0</td>\n",
       "      <td>-0.530612</td>\n",
       "    </tr>\n",
       "    <tr>\n",
       "      <th>2</th>\n",
       "      <td>10.285714</td>\n",
       "      <td>10.0</td>\n",
       "      <td>0.285714</td>\n",
       "    </tr>\n",
       "    <tr>\n",
       "      <th>3</th>\n",
       "      <td>10.653061</td>\n",
       "      <td>10.0</td>\n",
       "      <td>0.653061</td>\n",
       "    </tr>\n",
       "    <tr>\n",
       "      <th>4</th>\n",
       "      <td>10.428571</td>\n",
       "      <td>10.0</td>\n",
       "      <td>0.428571</td>\n",
       "    </tr>\n",
       "    <tr>\n",
       "      <th>...</th>\n",
       "      <td>...</td>\n",
       "      <td>...</td>\n",
       "      <td>...</td>\n",
       "    </tr>\n",
       "    <tr>\n",
       "      <th>995</th>\n",
       "      <td>10.183673</td>\n",
       "      <td>10.0</td>\n",
       "      <td>0.183673</td>\n",
       "    </tr>\n",
       "    <tr>\n",
       "      <th>996</th>\n",
       "      <td>10.795918</td>\n",
       "      <td>10.0</td>\n",
       "      <td>0.795918</td>\n",
       "    </tr>\n",
       "    <tr>\n",
       "      <th>997</th>\n",
       "      <td>9.591837</td>\n",
       "      <td>10.0</td>\n",
       "      <td>-0.408163</td>\n",
       "    </tr>\n",
       "    <tr>\n",
       "      <th>998</th>\n",
       "      <td>10.408163</td>\n",
       "      <td>10.0</td>\n",
       "      <td>0.408163</td>\n",
       "    </tr>\n",
       "    <tr>\n",
       "      <th>999</th>\n",
       "      <td>10.387755</td>\n",
       "      <td>10.0</td>\n",
       "      <td>0.387755</td>\n",
       "    </tr>\n",
       "  </tbody>\n",
       "</table>\n",
       "<p>1000 rows × 3 columns</p>\n",
       "</div>"
      ],
      "text/plain": [
       "      lamdahat  lamda      bias\n",
       "0     9.632653   10.0 -0.367347\n",
       "1     9.469388   10.0 -0.530612\n",
       "2    10.285714   10.0  0.285714\n",
       "3    10.653061   10.0  0.653061\n",
       "4    10.428571   10.0  0.428571\n",
       "..         ...    ...       ...\n",
       "995  10.183673   10.0  0.183673\n",
       "996  10.795918   10.0  0.795918\n",
       "997   9.591837   10.0 -0.408163\n",
       "998  10.408163   10.0  0.408163\n",
       "999  10.387755   10.0  0.387755\n",
       "\n",
       "[1000 rows x 3 columns]"
      ]
     },
     "execution_count": 6,
     "metadata": {},
     "output_type": "execute_result"
    }
   ],
   "source": [
    "generate_table(50,10)"
   ]
  },
  {
   "cell_type": "markdown",
   "id": "f5c2b617",
   "metadata": {},
   "source": [
    "## Problem 5 (iii)"
   ]
  },
  {
   "cell_type": "code",
   "execution_count": 8,
   "id": "ce5c1045",
   "metadata": {
    "scrolled": true
   },
   "outputs": [
    {
     "name": "stdout",
     "output_type": "stream",
     "text": [
      "      lamdahat  lamda      bias\n",
      "0    10.102041   10.0  0.102041\n",
      "1     9.897959   10.0 -0.102041\n",
      "2    10.448980   10.0  0.448980\n",
      "3    10.387755   10.0  0.387755\n",
      "4    10.326531   10.0  0.326531\n",
      "..         ...    ...       ...\n",
      "995   9.714286   10.0 -0.285714\n",
      "996   9.734694   10.0 -0.265306\n",
      "997  10.428571   10.0  0.428571\n",
      "998  10.755102   10.0  0.755102\n",
      "999  10.551020   10.0  0.551020\n",
      "\n",
      "[1000 rows x 3 columns]\n",
      "      lamdahat  lamda      bias\n",
      "0    21.591837   20.0  1.591837\n",
      "1    20.081633   20.0  0.081633\n",
      "2    19.020408   20.0 -0.979592\n",
      "3    20.918367   20.0  0.918367\n",
      "4    19.816327   20.0 -0.183673\n",
      "..         ...    ...       ...\n",
      "995  21.204082   20.0  1.204082\n",
      "996  20.408163   20.0  0.408163\n",
      "997  20.000000   20.0  0.000000\n",
      "998  19.897959   20.0 -0.102041\n",
      "999  19.857143   20.0 -0.142857\n",
      "\n",
      "[1000 rows x 3 columns]\n",
      "      lamdahat  lamda      bias\n",
      "0    31.102041   30.0  1.102041\n",
      "1    31.244898   30.0  1.244898\n",
      "2    31.367347   30.0  1.367347\n",
      "3    30.346939   30.0  0.346939\n",
      "4    31.571429   30.0  1.571429\n",
      "..         ...    ...       ...\n",
      "995  29.367347   30.0 -0.632653\n",
      "996  30.591837   30.0  0.591837\n",
      "997  30.428571   30.0  0.428571\n",
      "998  31.551020   30.0  1.551020\n",
      "999  29.693878   30.0 -0.306122\n",
      "\n",
      "[1000 rows x 3 columns]\n",
      "      lamdahat  lamda      bias\n",
      "0    40.469388   40.0  0.469388\n",
      "1    39.897959   40.0 -0.102041\n",
      "2    38.653061   40.0 -1.346939\n",
      "3    41.836735   40.0  1.836735\n",
      "4    41.102041   40.0  1.102041\n",
      "..         ...    ...       ...\n",
      "995  39.469388   40.0 -0.530612\n",
      "996  38.918367   40.0 -1.081633\n",
      "997  41.959184   40.0  1.959184\n",
      "998  41.265306   40.0  1.265306\n",
      "999  40.877551   40.0  0.877551\n",
      "\n",
      "[1000 rows x 3 columns]\n",
      "       lamdahat  lamda      bias\n",
      "0    102.244898  100.0  2.244898\n",
      "1    100.081633  100.0  0.081633\n",
      "2    102.408163  100.0  2.408163\n",
      "3    102.816327  100.0  2.816327\n",
      "4    100.836735  100.0  0.836735\n",
      "..          ...    ...       ...\n",
      "995  103.918367  100.0  3.918367\n",
      "996  104.775510  100.0  4.775510\n",
      "997  102.142857  100.0  2.142857\n",
      "998  101.591837  100.0  1.591837\n",
      "999  100.469388  100.0  0.469388\n",
      "\n",
      "[1000 rows x 3 columns]\n",
      "       lamdahat  lamda       bias\n",
      "0    513.612245  500.0  13.612245\n",
      "1    511.755102  500.0  11.755102\n",
      "2    509.346939  500.0   9.346939\n",
      "3    510.755102  500.0  10.755102\n",
      "4    512.897959  500.0  12.897959\n",
      "..          ...    ...        ...\n",
      "995  506.775510  500.0   6.775510\n",
      "996  513.142857  500.0  13.142857\n",
      "997  510.897959  500.0  10.897959\n",
      "998  516.530612  500.0  16.530612\n",
      "999  511.306122  500.0  11.306122\n",
      "\n",
      "[1000 rows x 3 columns]\n",
      "        lamdahat   lamda       bias\n",
      "0    1028.163265  1000.0  28.163265\n",
      "1    1025.428571  1000.0  25.428571\n",
      "2    1016.040816  1000.0  16.040816\n",
      "3    1022.897959  1000.0  22.897959\n",
      "4    1016.612245  1000.0  16.612245\n",
      "..           ...     ...        ...\n",
      "995  1025.775510  1000.0  25.775510\n",
      "996  1030.469388  1000.0  30.469388\n",
      "997  1016.734694  1000.0  16.734694\n",
      "998  1030.469388  1000.0  30.469388\n",
      "999  1021.979592  1000.0  21.979592\n",
      "\n",
      "[1000 rows x 3 columns]\n"
     ]
    }
   ],
   "source": [
    "N=50\n",
    "table1=generate_table(N,10)\n",
    "table2=generate_table(N,20)\n",
    "table3=generate_table(N,30)\n",
    "table4=generate_table(N,40)\n",
    "table5=generate_table(N,100)\n",
    "table6=generate_table(N,500)\n",
    "table7=generate_table(N,1000)\n",
    "print(table1)\n",
    "print(table2)\n",
    "print(table3)\n",
    "print(table4)\n",
    "print(table5)\n",
    "print(table6)\n",
    "print(table7)"
   ]
  },
  {
   "cell_type": "code",
   "execution_count": 9,
   "id": "edb4149c",
   "metadata": {},
   "outputs": [
    {
     "data": {
      "image/png": "[encoded data removed]",
      "text/plain": [
       "<Figure size 432x288 with 1 Axes>"
      ]
     },
     "metadata": {
      "needs_background": "light"
     },
     "output_type": "display_data"
    }
   ],
   "source": [
    "fig, ax = plt.subplots() \n",
    "x=np.arange(1000) \n",
    "y1 = generate_table(N,10)['bias']\n",
    "ax.plot(x, y1, label='lamda=10') \n",
    "y2 = generate_table(N,20)['bias']\n",
    "ax.plot(x, y2, label='lamda=20') \n",
    "y3 = generate_table(N,30)['bias']\n",
    "ax.plot(x, y3, label='lamda=30') \n",
    "y4 = generate_table(N,40)['bias']\n",
    "ax.plot(x, y4, label='lamda=40') \n",
    "y5 = generate_table(N,100)['bias']\n",
    "ax.plot(x, y5, label='lamda=100') \n",
    "y6 = generate_table(N,500)['bias']\n",
    "ax.plot(x, y6, label='lamda=500') \n",
    "y7 = generate_table(N,1000)['bias']\n",
    "ax.plot(x, y7, label='lamda=1000') \n",
    "ax.set_xlabel('x label') \n",
    "ax.set_ylabel('y label') \n",
    "ax.set_title('bias plot') \n",
    "ax.legend() \n",
    "plt.show() "
   ]
  },
  {
   "cell_type": "code",
   "execution_count": 36,
   "id": "28e3464d",
   "metadata": {},
   "outputs": [
    {
     "name": "stdout",
     "output_type": "stream",
     "text": [
      "lamda= 10 : mean= 10.208816326530613 bias= 0.2176326530612247\n",
      "lamda= 20 : mean= 20.38097959183673 bias= 0.40667346938775495\n",
      "lamda= 30 : mean= 30.653408163265304 bias= 0.6146530612244909\n",
      "lamda= 40 : mean= 40.80457142857142 bias= 0.8397959183673365\n",
      "lamda= 100 : mean= 101.97218367346937 bias= 1.9826734693877484\n",
      "lamda= 500 : mean= 510.23661224489786 bias= 10.310755102040787\n",
      "lamda= 1000 : mean= 1020.5942653061223 bias= 20.195448979591674\n"
     ]
    },
    {
     "data": {
      "image/png": "[encoded data removed]",
      "text/plain": [
       "<Figure size 432x288 with 1 Axes>"
      ]
     },
     "metadata": {
      "needs_background": "light"
     },
     "output_type": "display_data"
    }
   ],
   "source": [
    "N=50\n",
    "lamda=[10,20,30,40,100,500,1000]\n",
    "lamdamean=[]\n",
    "bias=[]\n",
    "for i in lamda:\n",
    "    mean=mean_lamdahat1000(N,i)\n",
    "    bias1=mean_lamdahat1000(N,i)-i\n",
    "    lamdamean.append(mean)\n",
    "    bias.append(bias1)\n",
    "    print('lamda=',i,':','mean=',mean,'bias=',bias1)\n",
    "plt.plot(lamda,bias,)\n",
    "plt.xlabel('true lamda')\n",
    "plt.ylabel('bias')\n",
    "plt.show()"
   ]
  },
  {
   "cell_type": "markdown",
   "id": "2c6f002a",
   "metadata": {},
   "source": [
    "From the mean of estimators we would know that when lamda increases,the estimators would increase. And from the plot, we would know that when lamda increases, the bias would be larger."
   ]
  },
  {
   "cell_type": "markdown",
   "id": "df5be32a",
   "metadata": {},
   "source": [
    "## Problem 5 （iv）"
   ]
  },
  {
   "cell_type": "code",
   "execution_count": 35,
   "id": "4dac777f",
   "metadata": {},
   "outputs": [
    {
     "name": "stdout",
     "output_type": "stream",
     "text": [
      "N= 10 mean= 111.06066666666666 variance= 3.576192317790971\n",
      "N= 50 mean= 102.0180612244898 variance= 1.442049399946726\n",
      "N= 100 mean= 101.01950505050506 variance= 0.9938998041203895\n",
      "N= 200 mean= 100.44503015075377 variance= 0.6858913784490455\n",
      "N= 500 mean= 100.18355310621243 variance= 0.45639494356166654\n",
      "N= 1000 mean= 100.09345845845846 variance= 0.3142426672723089\n"
     ]
    }
   ],
   "source": [
    "Nset=[10,50,100,200,500,1000]\n",
    "for i in Nset:\n",
    "    mean_lamdahat1000(i,100)\n",
    "    var_lamdahat1000(i,100)\n",
    "    print('N=',i,'mean=',mean_lamdahat1000(i,100),'variance=',var_lamdahat1000(i,100))"
   ]
  },
  {
   "cell_type": "markdown",
   "id": "58dcd847",
   "metadata": {},
   "source": [
    "From above, we can easily see that when N increases, mean of estimators be closer to 100, and variance of estimator would decrease."
   ]
  }
 ],
 "metadata": {
  "kernelspec": {
   "display_name": "Python 3 (ipykernel)",
   "language": "python",
   "name": "python3"
  },
  "language_info": {
   "codemirror_mode": {
    "name": "ipython",
    "version": 3
   },
   "file_extension": ".py",
   "mimetype": "text/x-python",
   "name": "python",
   "nbconvert_exporter": "python",
   "pygments_lexer": "ipython3",
   "version": "3.9.12"
  }
 },
 "nbformat": 4,
 "nbformat_minor": 5
}
